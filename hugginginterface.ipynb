{
  "nbformat": 4,
  "nbformat_minor": 0,
  "metadata": {
    "colab": {
      "provenance": [],
      "authorship_tag": "ABX9TyPQYbSx9+HFvuqszzilXeLI",
      "include_colab_link": true
    },
    "kernelspec": {
      "name": "python3",
      "display_name": "Python 3"
    },
    "language_info": {
      "name": "python"
    }
  },
  "cells": [
    {
      "cell_type": "markdown",
      "metadata": {
        "id": "view-in-github",
        "colab_type": "text"
      },
      "source": [
        "<a href=\"https://colab.research.google.com/github/Datascientist2004/Datascientist2004/blob/main/hugginginterface.ipynb\" target=\"_parent\"><img src=\"https://colab.research.google.com/assets/colab-badge.svg\" alt=\"Open In Colab\"/></a>"
      ]
    },
    {
      "cell_type": "code",
      "execution_count": 6,
      "metadata": {
        "colab": {
          "base_uri": "https://localhost:8080/"
        },
        "id": "_Js_9j7BlIm1",
        "outputId": "2a5b45d1-5adc-405b-9f12-1f0c85ee8f29"
      },
      "outputs": [
        {
          "output_type": "stream",
          "name": "stdout",
          "text": [
            "Requirement already satisfied: transformers in /usr/local/lib/python3.11/dist-packages (4.52.4)\n",
            "Requirement already satisfied: filelock in /usr/local/lib/python3.11/dist-packages (from transformers) (3.18.0)\n",
            "Requirement already satisfied: huggingface-hub<1.0,>=0.30.0 in /usr/local/lib/python3.11/dist-packages (from transformers) (0.33.0)\n",
            "Requirement already satisfied: numpy>=1.17 in /usr/local/lib/python3.11/dist-packages (from transformers) (2.0.2)\n",
            "Requirement already satisfied: packaging>=20.0 in /usr/local/lib/python3.11/dist-packages (from transformers) (24.2)\n",
            "Requirement already satisfied: pyyaml>=5.1 in /usr/local/lib/python3.11/dist-packages (from transformers) (6.0.2)\n",
            "Requirement already satisfied: regex!=2019.12.17 in /usr/local/lib/python3.11/dist-packages (from transformers) (2024.11.6)\n",
            "Requirement already satisfied: requests in /usr/local/lib/python3.11/dist-packages (from transformers) (2.32.3)\n",
            "Requirement already satisfied: tokenizers<0.22,>=0.21 in /usr/local/lib/python3.11/dist-packages (from transformers) (0.21.1)\n",
            "Requirement already satisfied: safetensors>=0.4.3 in /usr/local/lib/python3.11/dist-packages (from transformers) (0.5.3)\n",
            "Requirement already satisfied: tqdm>=4.27 in /usr/local/lib/python3.11/dist-packages (from transformers) (4.67.1)\n",
            "Requirement already satisfied: fsspec>=2023.5.0 in /usr/local/lib/python3.11/dist-packages (from huggingface-hub<1.0,>=0.30.0->transformers) (2025.3.2)\n",
            "Requirement already satisfied: typing-extensions>=3.7.4.3 in /usr/local/lib/python3.11/dist-packages (from huggingface-hub<1.0,>=0.30.0->transformers) (4.14.0)\n",
            "Requirement already satisfied: hf-xet<2.0.0,>=1.1.2 in /usr/local/lib/python3.11/dist-packages (from huggingface-hub<1.0,>=0.30.0->transformers) (1.1.3)\n",
            "Requirement already satisfied: charset-normalizer<4,>=2 in /usr/local/lib/python3.11/dist-packages (from requests->transformers) (3.4.2)\n",
            "Requirement already satisfied: idna<4,>=2.5 in /usr/local/lib/python3.11/dist-packages (from requests->transformers) (3.10)\n",
            "Requirement already satisfied: urllib3<3,>=1.21.1 in /usr/local/lib/python3.11/dist-packages (from requests->transformers) (2.4.0)\n",
            "Requirement already satisfied: certifi>=2017.4.17 in /usr/local/lib/python3.11/dist-packages (from requests->transformers) (2025.6.15)\n"
          ]
        }
      ],
      "source": [
        "!pip install transformers"
      ]
    },
    {
      "cell_type": "code",
      "source": [
        "# model_loader.py\n",
        "\n",
        "from transformers import pipeline, AutoTokenizer, AutoModelForCausalLM\n",
        "\n",
        "def load_model(model_name=\"distilgpt2\"):\n",
        "    tokenizer = AutoTokenizer.from_pretrained(model_name)\n",
        "    model = AutoModelForCausalLM.from_pretrained(model_name)\n",
        "    generator = pipeline(\"text-generation\", model=model, tokenizer=tokenizer)\n",
        "    return generator, tokenizer"
      ],
      "metadata": {
        "id": "0ecx1ePflJg2"
      },
      "execution_count": 7,
      "outputs": []
    },
    {
      "cell_type": "code",
      "source": [
        "# chat_memory.py\n",
        "\n",
        "class ChatMemory:\n",
        "    def __init__(self, max_turns=3):\n",
        "        self.max_turns = max_turns\n",
        "        self.history = []\n",
        "\n",
        "    def append(self, user_input, bot_response):\n",
        "        self.history.append((user_input, bot_response))\n",
        "        if len(self.history) > self.max_turns:\n",
        "            self.history.pop(0)\n",
        "\n",
        "    def get_context(self):\n",
        "        return \"\\n\".join([f\"User: {u}\\nBot: {b}\" for u, b in self.history])"
      ],
      "metadata": {
        "id": "4X3OUxLdlJlS"
      },
      "execution_count": 8,
      "outputs": []
    },
    {
      "cell_type": "code",
      "source": [
        "# interface.py\n",
        "\n",
        "# No explicit imports needed as the preceding cells\n",
        "# define load_model and ChatMemory in the global scope\n",
        "\n",
        "def main():\n",
        "    print(\"🤖 Welcome to the Hugging Face CLI Chatbot! Type '/exit' to quit.\\n\")\n",
        "    # Call load_model defined in the previous cell\n",
        "    generator, tokenizer = load_model()\n",
        "    # Instantiate ChatMemory defined in the previous cell\n",
        "    memory = ChatMemory(max_turns=3)\n",
        "\n",
        "    while True:\n",
        "        user_input = input(\"User: \")\n",
        "        if user_input.strip().lower() == \"/exit\":\n",
        "            print(\"Bot: Exiting chatbot. Goodbye!\")\n",
        "            break\n",
        "\n",
        "        context = memory.get_context()\n",
        "        prompt = f\"{context}\\nUser: {user_input}\\nBot:\"\n",
        "        response = generator(prompt, max_new_tokens=60, do_sample=True, top_k=50)[0]['generated_text']\n",
        "\n",
        "        # Extract only the new part of the response\n",
        "        bot_reply = response.split(\"Bot:\")[-1].strip().split(\"\\n\")[0]\n",
        "        print(f\"Bot: {bot_reply}\\n\")\n",
        "\n",
        "        memory.append(user_input, bot_reply)\n",
        "\n",
        "# Run the chatbot (for script version)\n",
        "if __name__ == \"__main__\":\n",
        "    main()"
      ],
      "metadata": {
        "colab": {
          "base_uri": "https://localhost:8080/"
        },
        "id": "sPzI6o-slJtC",
        "outputId": "01bc9e68-2486-490d-b0c8-0d5ab0c5b966"
      },
      "execution_count": 9,
      "outputs": [
        {
          "output_type": "stream",
          "name": "stdout",
          "text": [
            "🤖 Welcome to the Hugging Face CLI Chatbot! Type '/exit' to quit.\n",
            "\n"
          ]
        },
        {
          "output_type": "stream",
          "name": "stderr",
          "text": [
            "Device set to use cpu\n"
          ]
        },
        {
          "name": "stdout",
          "output_type": "stream",
          "text": [
            "User: hi\n"
          ]
        },
        {
          "output_type": "stream",
          "name": "stderr",
          "text": [
            "Setting `pad_token_id` to `eos_token_id`:50256 for open-end generation.\n"
          ]
        },
        {
          "name": "stdout",
          "output_type": "stream",
          "text": [
            "Bot: cc\n",
            "\n",
            "User: what is the capital of france?\n"
          ]
        },
        {
          "output_type": "stream",
          "name": "stderr",
          "text": [
            "Setting `pad_token_id` to `eos_token_id`:50256 for open-end generation.\n"
          ]
        },
        {
          "output_type": "stream",
          "name": "stdout",
          "text": [
            "Bot: \n",
            "\n",
            "User: /exit\n",
            "Bot: Exiting chatbot. Goodbye!\n"
          ]
        }
      ]
    }
  ]
}